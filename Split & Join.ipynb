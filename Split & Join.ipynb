{
 "cells": [
  {
   "cell_type": "code",
   "execution_count": null,
   "metadata": {},
   "outputs": [],
   "source": [
    "#Split a string into a list of words\n",
    "input_str = \"Python program to split and join a string\"\n",
    "word_str = input_str.split() #default, split on whitespace\n",
    "\n",
    "#Join the list of words into a string\n"
   ]
  }
 ],
 "metadata": {
  "language_info": {
   "name": "python"
  }
 },
 "nbformat": 4,
 "nbformat_minor": 2
}
